{
 "cells": [
  {
   "cell_type": "code",
   "execution_count": 13,
   "id": "f9e88c01",
   "metadata": {},
   "outputs": [],
   "source": [
    "import cv2\n",
    "import glob\n",
    "from ultralytics import YOLO\n",
    "import os"
   ]
  },
  {
   "cell_type": "code",
   "execution_count": 17,
   "id": "1696874f",
   "metadata": {},
   "outputs": [],
   "source": [
    "def process_frames_folder(folder_path):\n",
    "    print(f\"Loading the Model...\")\n",
    "\n",
    "    model = YOLO('yolov8n.pt')\n",
    "\n",
    "    image_patterns = os.path.join(folder_path, '*.jpeg')\n",
    "\n",
    "    frame_files = []\n",
    "    for pattern in image_patterns:\n",
    "        frame_files.extend(glob.glob(pattern))\n",
    "\n",
    "    frame_files.sort()\n",
    "\n",
    "    if not frame_files:\n",
    "        print(f\"No Images in the folder {folder_path}\")\n",
    "        return\n",
    "\n",
    "    print(f\"Found images.. now processing in {folder_path}\")\n",
    "\n",
    "    print(\"\\n--- Detection Results (CSV Format) ---\")\n",
    "    print(\"frame_filename,class_id,class_name,confidence,x_min,y_min,x_max,y_max\")\n",
    "\n",
    "    results = model(frame_files, stream=False, verbose=False)\n",
    "\n",
    "    for result in results:\n",
    "        frame_filename = os.path.basename(result.path)\n",
    "\n",
    "        boxes = result.boxes.xyxy.cpu().numpy()\n",
    "        confidences = result.boxes.conf.cpu().numpy()\n",
    "        class_ids = result.boxes.conf.cpu().numpy().astype(int)\n",
    "\n",
    "        for i in range(len(boxes)):\n",
    "           box = boxes[i]\n",
    "           x_min, y_min, x_max, y_max = box\n",
    "           conf = confidences[i]\n",
    "           id = class_ids[i]\n",
    "\n",
    "           class_name = model.names[id]\n",
    "\n",
    "           if class_name in ['car', 'truck', 'bus', 'motorcycle']:\n",
    "               print(\n",
    "                    f\"{frame_filename},\"\n",
    "                    f\"{cls_id},\"\n",
    "                    f\"{class_name},\"\n",
    "                    f\"{conf:.4f},\"  # Format confidence to 4 decimal places\n",
    "                    f\"{int(x_min)},\"\n",
    "                    f\"{int(y_min)},\"\n",
    "                    f\"{int(x_max)},\"\n",
    "                    f\"{int(y_max)}\"\n",
    "                )\n",
    "\n",
    "    print(\"--- Processing complete ---\")"
   ]
  },
  {
   "cell_type": "code",
   "execution_count": null,
   "id": "8060c9f8",
   "metadata": {},
   "outputs": [
    {
     "ename": "SyntaxError",
     "evalue": "expected ':' (640311177.py, line 4)",
     "output_type": "error",
     "traceback": [
      "  \u001b[36mCell\u001b[39m\u001b[36m \u001b[39m\u001b[32mIn[18]\u001b[39m\u001b[32m, line 4\u001b[39m\n\u001b[31m    \u001b[39m\u001b[31mif FRAMES_FOLDER == 'path'\u001b[39m\n                              ^\n\u001b[31mSyntaxError\u001b[39m\u001b[31m:\u001b[39m expected ':'\n"
     ]
    }
   ],
   "source": [
    "if __name__ == \"__main__\":\n",
    "    FRAMES_FOLDER = '/Users/yusse/Coding/knight_hacks25/Yolo_frames'\n",
    "\n",
    "    if FRAMES_FOLDER == '/Users/yusse/Coding/knight_hacks25/Yolo_frames':\n",
    "        print(\"=\"*50)\n",
    "        print(\"ERROR: Please update the 'FRAMES_FOLDER' variable in this script\")\n",
    "        print(f\"       to point to your directory of video frames.\")\n",
    "        print(\"=\"*50)\n",
    "    else:\n",
    "        if not os.path.isdir(FRAMES_FOLDER):\n",
    "            print(f\"Error: Folder not found at {FRAMES_FOLDER}\")\n",
    "        else:\n",
    "            process_frames_folder(FRAMES_FOLDER)"
   ]
  },
  {
   "cell_type": "code",
   "execution_count": null,
   "id": "a65ccb10",
   "metadata": {},
   "outputs": [],
   "source": []
  }
 ],
 "metadata": {
  "kernelspec": {
   "display_name": "Python (kh25)",
   "language": "python",
   "name": "myenv"
  },
  "language_info": {
   "codemirror_mode": {
    "name": "ipython",
    "version": 3
   },
   "file_extension": ".py",
   "mimetype": "text/x-python",
   "name": "python",
   "nbconvert_exporter": "python",
   "pygments_lexer": "ipython3",
   "version": "3.13.9"
  }
 },
 "nbformat": 4,
 "nbformat_minor": 5
}
