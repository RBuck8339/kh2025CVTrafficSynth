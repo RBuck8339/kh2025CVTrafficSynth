{
 "cells": [
  {
   "cell_type": "code",
   "execution_count": null,
   "id": "f9e88c01",
   "metadata": {},
   "outputs": [
    {
     "ename": "ModuleNotFoundError",
     "evalue": "No module named 'ultralytic'",
     "output_type": "error",
     "traceback": [
      "\u001b[31m---------------------------------------------------------------------------\u001b[39m",
      "\u001b[31mModuleNotFoundError\u001b[39m                       Traceback (most recent call last)",
      "\u001b[36mCell\u001b[39m\u001b[36m \u001b[39m\u001b[32mIn[1]\u001b[39m\u001b[32m, line 2\u001b[39m\n\u001b[32m      1\u001b[39m \u001b[38;5;28;01mimport\u001b[39;00m\u001b[38;5;250m \u001b[39m\u001b[34;01mcv2\u001b[39;00m\n\u001b[32m----> \u001b[39m\u001b[32m2\u001b[39m \u001b[38;5;28;01mfrom\u001b[39;00m\u001b[38;5;250m \u001b[39m\u001b[34;01multralytic\u001b[39;00m\u001b[38;5;250m \u001b[39m\u001b[38;5;28;01mimport\u001b[39;00m YOLO\n",
      "\u001b[31mModuleNotFoundError\u001b[39m: No module named 'ultralytic'"
     ]
    }
   ],
   "source": [
    "import cv2\n",
    "from ultralytic import YOLO\n",
    "import os"
   ]
  },
  {
   "cell_type": "code",
   "execution_count": null,
   "id": "1696874f",
   "metadata": {},
   "outputs": [],
   "source": [
    "def process_frames_folder(folder_path):\n",
    "    print(f\"Loading the Model...\")\n",
    "\n",
    "    model = YOLO('yolov8n.pt')\n",
    "\n",
    "    image_patterns = os.path.\n"
   ]
  }
 ],
 "metadata": {
  "kernelspec": {
   "display_name": "Python (kh25)",
   "language": "python",
   "name": "myenv"
  },
  "language_info": {
   "codemirror_mode": {
    "name": "ipython",
    "version": 3
   },
   "file_extension": ".py",
   "mimetype": "text/x-python",
   "name": "python",
   "nbconvert_exporter": "python",
   "pygments_lexer": "ipython3",
   "version": "3.13.9"
  }
 },
 "nbformat": 4,
 "nbformat_minor": 5
}
